{
 "cells": [
  {
   "cell_type": "markdown",
   "id": "295d250f",
   "metadata": {
    "tags": [
     "papermill-error-cell-tag"
    ]
   },
   "source": [
    "<span style=\"color:red; font-family:Helvetica Neue, Helvetica, Arial, sans-serif; font-size:2em;\">An Exception was encountered at '<a href=\"#papermill-error-cell\">In [3]</a>'.</span>"
   ]
  },
  {
   "cell_type": "code",
   "execution_count": 1,
   "id": "b2822909",
   "metadata": {
    "execution": {
     "iopub.execute_input": "2022-01-25T05:26:56.315714Z",
     "iopub.status.busy": "2022-01-25T05:26:56.315084Z",
     "iopub.status.idle": "2022-01-25T05:26:56.318297Z",
     "shell.execute_reply": "2022-01-25T05:26:56.318703Z"
    },
    "papermill": {
     "duration": 0.022228,
     "end_time": "2022-01-25T05:26:56.319032",
     "exception": false,
     "start_time": "2022-01-25T05:26:56.296804",
     "status": "completed"
    },
    "tags": [
     "injected-parameters"
    ]
   },
   "outputs": [],
   "source": [
    "# Parameters\n",
    "run_id = None\n",
    "flow_name = \"NBFlow\"\n"
   ]
  },
  {
   "cell_type": "code",
   "execution_count": 2,
   "id": "6663db46",
   "metadata": {
    "execution": {
     "iopub.execute_input": "2022-01-25T05:26:56.328583Z",
     "iopub.status.busy": "2022-01-25T05:26:56.327987Z",
     "iopub.status.idle": "2022-01-25T05:26:56.329884Z",
     "shell.execute_reply": "2022-01-25T05:26:56.330280Z"
    },
    "papermill": {
     "duration": 0.008049,
     "end_time": "2022-01-25T05:26:56.330443",
     "exception": false,
     "start_time": "2022-01-25T05:26:56.322394",
     "status": "completed"
    },
    "tags": []
   },
   "outputs": [
    {
     "name": "stdout",
     "output_type": "stream",
     "text": [
      "Results for run_id=1234 and flow_name=None\n"
     ]
    }
   ],
   "source": [
    "run_id = 1234\n",
    "flow_name = None\n",
    "\n",
    "print(f\"Results for {run_id=} and {flow_name=}\")"
   ]
  },
  {
   "cell_type": "markdown",
   "id": "fcdd8bbd",
   "metadata": {
    "papermill": {
     "duration": 0.002368,
     "end_time": "2022-01-25T05:26:56.335477",
     "exception": false,
     "start_time": "2022-01-25T05:26:56.333109",
     "status": "completed"
    },
    "tags": []
   },
   "source": [
    "### You can use the `flow_name` and `run_id` to get data from any step\n",
    "\n",
    "In this case, the variable we want to retrieve is called `varialbe_for_notebook` from the `start` step:"
   ]
  },
  {
   "cell_type": "markdown",
   "id": "7b3cc6e7",
   "metadata": {
    "tags": [
     "papermill-error-cell-tag"
    ]
   },
   "source": [
    "<span id=\"papermill-error-cell\" style=\"color:red; font-family:Helvetica Neue, Helvetica, Arial, sans-serif; font-size:2em;\">Execution using papermill encountered an exception here and stopped:</span>"
   ]
  },
  {
   "cell_type": "code",
   "execution_count": 3,
   "id": "d2bf24f2",
   "metadata": {
    "execution": {
     "iopub.execute_input": "2022-01-25T05:26:56.343101Z",
     "iopub.status.busy": "2022-01-25T05:26:56.342640Z",
     "iopub.status.idle": "2022-01-25T05:26:56.781386Z",
     "shell.execute_reply": "2022-01-25T05:26:56.780988Z"
    },
    "papermill": {
     "duration": 0.443735,
     "end_time": "2022-01-25T05:26:56.781564",
     "exception": true,
     "start_time": "2022-01-25T05:26:56.337829",
     "status": "failed"
    },
    "tags": []
   },
   "outputs": [
    {
     "ename": "MetaflowNotFound",
     "evalue": "Step('None/1234/start') does not exist",
     "output_type": "error",
     "traceback": [
      "\u001b[0;31m---------------------------------------------------------------------------\u001b[0m",
      "\u001b[0;31mMetaflowNotFound\u001b[0m                          Traceback (most recent call last)",
      "\u001b[0;32m/var/folders/jj/xl1rktcs6mn7ms6b8vvx8k4r0000gn/T/ipykernel_4046/3035233496.py\u001b[0m in \u001b[0;36m<module>\u001b[0;34m\u001b[0m\n\u001b[1;32m      1\u001b[0m \u001b[0;32mfrom\u001b[0m \u001b[0mmetaflow\u001b[0m \u001b[0;32mimport\u001b[0m \u001b[0mStep\u001b[0m\u001b[0;34m\u001b[0m\u001b[0;34m\u001b[0m\u001b[0m\n\u001b[0;32m----> 2\u001b[0;31m \u001b[0mstep\u001b[0m \u001b[0;34m=\u001b[0m \u001b[0mStep\u001b[0m\u001b[0;34m(\u001b[0m\u001b[0;34mf'{flow_name}/{run_id}/start'\u001b[0m\u001b[0;34m)\u001b[0m \u001b[0;31m# the variable is located in the start step\u001b[0m\u001b[0;34m\u001b[0m\u001b[0;34m\u001b[0m\u001b[0m\n\u001b[0m\u001b[1;32m      3\u001b[0m \u001b[0;34m\u001b[0m\u001b[0m\n\u001b[1;32m      4\u001b[0m \u001b[0mprint\u001b[0m\u001b[0;34m(\u001b[0m\u001b[0mstep\u001b[0m\u001b[0;34m.\u001b[0m\u001b[0mtask\u001b[0m\u001b[0;34m.\u001b[0m\u001b[0mdata\u001b[0m\u001b[0;34m.\u001b[0m\u001b[0mvariable_for_notebook\u001b[0m\u001b[0;34m)\u001b[0m \u001b[0;31m# the name of the variable is \"variable_for_notebook\"\u001b[0m\u001b[0;34m\u001b[0m\u001b[0;34m\u001b[0m\u001b[0m\n",
      "\u001b[0;32m~/opt/anaconda3/lib/python3.9/site-packages/metaflow/client/core.py\u001b[0m in \u001b[0;36m__init__\u001b[0;34m(self, pathspec, attempt, _object, _parent, _namespace_check)\u001b[0m\n\u001b[1;32m    359\u001b[0m             \u001b[0mself\u001b[0m\u001b[0;34m.\u001b[0m\u001b[0mid\u001b[0m \u001b[0;34m=\u001b[0m \u001b[0mids\u001b[0m\u001b[0;34m[\u001b[0m\u001b[0;34m-\u001b[0m\u001b[0;36m1\u001b[0m\u001b[0;34m]\u001b[0m\u001b[0;34m\u001b[0m\u001b[0;34m\u001b[0m\u001b[0m\n\u001b[1;32m    360\u001b[0m             \u001b[0mself\u001b[0m\u001b[0;34m.\u001b[0m\u001b[0m_pathspec\u001b[0m \u001b[0;34m=\u001b[0m \u001b[0mpathspec\u001b[0m\u001b[0;34m\u001b[0m\u001b[0;34m\u001b[0m\u001b[0m\n\u001b[0;32m--> 361\u001b[0;31m             \u001b[0mself\u001b[0m\u001b[0;34m.\u001b[0m\u001b[0m_object\u001b[0m \u001b[0;34m=\u001b[0m \u001b[0mself\u001b[0m\u001b[0;34m.\u001b[0m\u001b[0m_get_object\u001b[0m\u001b[0;34m(\u001b[0m\u001b[0;34m*\u001b[0m\u001b[0mids\u001b[0m\u001b[0;34m)\u001b[0m\u001b[0;34m\u001b[0m\u001b[0;34m\u001b[0m\u001b[0m\n\u001b[0m\u001b[1;32m    362\u001b[0m         \u001b[0;32melse\u001b[0m\u001b[0;34m:\u001b[0m\u001b[0;34m\u001b[0m\u001b[0;34m\u001b[0m\u001b[0m\n\u001b[1;32m    363\u001b[0m             \u001b[0mself\u001b[0m\u001b[0;34m.\u001b[0m\u001b[0m_object\u001b[0m \u001b[0;34m=\u001b[0m \u001b[0m_object\u001b[0m\u001b[0;34m\u001b[0m\u001b[0;34m\u001b[0m\u001b[0m\n",
      "\u001b[0;32m~/opt/anaconda3/lib/python3.9/site-packages/metaflow/client/core.py\u001b[0m in \u001b[0;36m_get_object\u001b[0;34m(self, *path_components)\u001b[0m\n\u001b[1;32m    389\u001b[0m         )\n\u001b[1;32m    390\u001b[0m         \u001b[0;32mif\u001b[0m \u001b[0;32mnot\u001b[0m \u001b[0mresult\u001b[0m\u001b[0;34m:\u001b[0m\u001b[0;34m\u001b[0m\u001b[0;34m\u001b[0m\u001b[0m\n\u001b[0;32m--> 391\u001b[0;31m             \u001b[0;32mraise\u001b[0m \u001b[0mMetaflowNotFound\u001b[0m\u001b[0;34m(\u001b[0m\u001b[0;34m\"%s does not exist\"\u001b[0m \u001b[0;34m%\u001b[0m \u001b[0mself\u001b[0m\u001b[0;34m)\u001b[0m\u001b[0;34m\u001b[0m\u001b[0;34m\u001b[0m\u001b[0m\n\u001b[0m\u001b[1;32m    392\u001b[0m         \u001b[0;32mreturn\u001b[0m \u001b[0mresult\u001b[0m\u001b[0;34m\u001b[0m\u001b[0;34m\u001b[0m\u001b[0m\n\u001b[1;32m    393\u001b[0m \u001b[0;34m\u001b[0m\u001b[0m\n",
      "\u001b[0;31mMetaflowNotFound\u001b[0m: Step('None/1234/start') does not exist"
     ]
    }
   ],
   "source": [
    "from metaflow import Step\n",
    "step = Step(f'{flow_name}/{run_id}/start') # the variable is located in the start step\n",
    "\n",
    "print(step.task.data.variable_for_notebook) # the name of the variable is \"variable_for_notebook\""
   ]
  }
 ],
 "metadata": {
  "kernelspec": {
   "display_name": "Python 3 (ipykernel)",
   "language": "python",
   "name": "python3"
  },
  "language_info": {
   "codemirror_mode": {
    "name": "ipython",
    "version": 3
   },
   "file_extension": ".py",
   "mimetype": "text/x-python",
   "name": "python",
   "nbconvert_exporter": "python",
   "pygments_lexer": "ipython3",
   "version": "3.9.7"
  },
  "papermill": {
   "default_parameters": {},
   "duration": 1.993032,
   "end_time": "2022-01-25T05:26:56.989668",
   "environment_variables": {},
   "exception": true,
   "input_path": "nbflow.ipynb",
   "output_path": "_rendered_None_nbflow.ipynb",
   "parameters": {
    "flow_name": "NBFlow",
    "run_id": null
   },
   "start_time": "2022-01-25T05:26:54.996636",
   "version": "2.3.3"
  }
 },
 "nbformat": 4,
 "nbformat_minor": 5
}