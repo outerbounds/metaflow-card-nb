{
 "cells": [
  {
   "cell_type": "code",
   "execution_count": 1,
   "id": "6663db46",
   "metadata": {},
   "outputs": [
    {
     "name": "stdout",
     "output_type": "stream",
     "text": [
      "Results for run_id=1234 and flow_name=None\n"
     ]
    }
   ],
   "source": [
    "run_id = 1234\n",
    "flow_name = None\n",
    "\n",
    "print(f\"Results for {run_id=} and {flow_name=}\")"
   ]
  },
  {
   "cell_type": "markdown",
   "id": "fcdd8bbd",
   "metadata": {},
   "source": [
    "### You can use the `flow_name` and `run_id` to get data from any step\n",
    "\n",
    "In this case, the variable we want to retrieve is called `varialbe_for_notebook` from the `start` step:"
   ]
  },
  {
   "cell_type": "code",
   "execution_count": null,
   "id": "d2bf24f2",
   "metadata": {},
   "outputs": [],
   "source": [
    "from metaflow import Step\n",
    "step = Step(f'{flow_name}/{run_id}/start') # the variable is located in the start step\n",
    "\n",
    "print(step.task.data.variable_for_notebook) # the name of the variable is \"variable_for_notebook\""
   ]
  }
 ],
 "metadata": {
  "kernelspec": {
   "display_name": "Python 3 (ipykernel)",
   "language": "python",
   "name": "python3"
  },
  "language_info": {
   "codemirror_mode": {
    "name": "ipython",
    "version": 3
   },
   "file_extension": ".py",
   "mimetype": "text/x-python",
   "name": "python",
   "nbconvert_exporter": "python",
   "pygments_lexer": "ipython3",
   "version": "3.9.7"
  }
 },
 "nbformat": 4,
 "nbformat_minor": 5
}
