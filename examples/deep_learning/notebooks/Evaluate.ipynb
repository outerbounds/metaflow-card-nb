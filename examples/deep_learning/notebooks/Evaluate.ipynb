{
 "cells": [
  {
   "cell_type": "code",
   "execution_count": 1,
   "id": "8d31590e",
   "metadata": {
    "execution": {
     "iopub.execute_input": "2022-01-21T16:19:04.011995Z",
     "iopub.status.busy": "2022-01-21T16:19:04.011573Z",
     "iopub.status.idle": "2022-01-21T16:19:04.013669Z",
     "shell.execute_reply": "2022-01-21T16:19:04.013924Z"
    },
    "papermill": {
     "duration": 0.010356,
     "end_time": "2022-01-21T16:19:04.014122",
     "exception": false,
     "start_time": "2022-01-21T16:19:04.003766",
     "status": "completed"
    },
    "tags": [
     "injected-parameters"
    ]
   },
   "outputs": [],
   "source": [
    "# Parameters\n",
    "run_id = \"1642781791808612\"\n",
    "flow_name = \"NBFlow\""
   ]
  },
  {
   "cell_type": "markdown",
   "id": "a28b0f79",
   "metadata": {
    "papermill": {
     "duration": 0.003095,
     "end_time": "2022-01-21T16:19:04.020515",
     "exception": false,
     "start_time": "2022-01-21T16:19:04.017420",
     "status": "completed"
    },
    "tags": []
   },
   "source": [
    "# Model Result Dashboard\n",
    "\n",
    "We retrieve the model results so we can produce model diagnostics."
   ]
  },
  {
   "cell_type": "code",
   "execution_count": 2,
   "id": "3a9347f9",
   "metadata": {
    "execution": {
     "iopub.execute_input": "2022-01-21T16:19:04.029976Z",
     "iopub.status.busy": "2022-01-21T16:19:04.029574Z",
     "iopub.status.idle": "2022-01-21T16:19:05.813472Z",
     "shell.execute_reply": "2022-01-21T16:19:05.813824Z"
    },
    "papermill": {
     "duration": 1.790243,
     "end_time": "2022-01-21T16:19:05.813977",
     "exception": false,
     "start_time": "2022-01-21T16:19:04.023734",
     "status": "completed"
    },
    "tags": []
   },
   "outputs": [
    {
     "name": "stdout",
     "output_type": "stream",
     "text": [
      "Results for run_id='1642781791808612' and flow_name='NBFlow'\n"
     ]
    }
   ],
   "source": [
    "from metaflow import Step\n",
    "import pandas as pd\n",
    "import numpy as np\n",
    "import altair as alt\n",
    "step = Step(f'{flow_name}/{run_id}/train')\n",
    "model_results = step.task.data.model_results\n",
    "y = model_results['test_labels']\n",
    "yhat = model_results['test_predictions']\n",
    "\n",
    "print(f'Results for {run_id=} and {flow_name=}')"
   ]
  },
  {
   "cell_type": "markdown",
   "id": "e9df4e4e",
   "metadata": {
    "papermill": {
     "duration": 0.003182,
     "end_time": "2022-01-21T16:19:05.820887",
     "exception": false,
     "start_time": "2022-01-21T16:19:05.817705",
     "status": "completed"
    },
    "tags": []
   },
   "source": [
    "## Training History"
   ]
  },
  {
   "cell_type": "code",
   "execution_count": 3,
   "id": "b396f8ec",
   "metadata": {
    "execution": {
     "iopub.execute_input": "2022-01-21T16:19:05.833873Z",
     "iopub.status.busy": "2022-01-21T16:19:05.833472Z",
     "iopub.status.idle": "2022-01-21T16:19:05.839654Z",
     "shell.execute_reply": "2022-01-21T16:19:05.839958Z"
    },
    "papermill": {
     "duration": 0.016046,
     "end_time": "2022-01-21T16:19:05.840158",
     "exception": false,
     "start_time": "2022-01-21T16:19:05.824112",
     "status": "completed"
    },
    "tags": []
   },
   "outputs": [
    {
     "data": {
      "text/html": [
       "<div>\n",
       "<style scoped>\n",
       "    .dataframe tbody tr th:only-of-type {\n",
       "        vertical-align: middle;\n",
       "    }\n",
       "\n",
       "    .dataframe tbody tr th {\n",
       "        vertical-align: top;\n",
       "    }\n",
       "\n",
       "    .dataframe thead th {\n",
       "        text-align: right;\n",
       "    }\n",
       "</style>\n",
       "<table border=\"1\" class=\"dataframe\">\n",
       "  <thead>\n",
       "    <tr style=\"text-align: right;\">\n",
       "      <th></th>\n",
       "      <th>loss</th>\n",
       "      <th>accuracy</th>\n",
       "      <th>val_loss</th>\n",
       "      <th>val_accuracy</th>\n",
       "    </tr>\n",
       "  </thead>\n",
       "  <tbody>\n",
       "    <tr>\n",
       "      <th>0</th>\n",
       "      <td>0.563679</td>\n",
       "      <td>0.69930</td>\n",
       "      <td>0.389234</td>\n",
       "      <td>0.8436</td>\n",
       "    </tr>\n",
       "    <tr>\n",
       "      <th>1</th>\n",
       "      <td>0.469560</td>\n",
       "      <td>0.77030</td>\n",
       "      <td>0.421540</td>\n",
       "      <td>0.8018</td>\n",
       "    </tr>\n",
       "    <tr>\n",
       "      <th>2</th>\n",
       "      <td>0.491390</td>\n",
       "      <td>0.76835</td>\n",
       "      <td>0.660313</td>\n",
       "      <td>0.8472</td>\n",
       "    </tr>\n",
       "    <tr>\n",
       "      <th>3</th>\n",
       "      <td>0.428175</td>\n",
       "      <td>0.82220</td>\n",
       "      <td>0.669486</td>\n",
       "      <td>0.8418</td>\n",
       "    </tr>\n",
       "  </tbody>\n",
       "</table>\n",
       "</div>"
      ],
      "text/plain": [
       "       loss  accuracy  val_loss  val_accuracy\n",
       "0  0.563679   0.69930  0.389234        0.8436\n",
       "1  0.469560   0.77030  0.421540        0.8018\n",
       "2  0.491390   0.76835  0.660313        0.8472\n",
       "3  0.428175   0.82220  0.669486        0.8418"
      ]
     },
     "execution_count": 3,
     "metadata": {},
     "output_type": "execute_result"
    }
   ],
   "source": [
    "#TODO\n",
    "history = model_results['history']\n",
    "df_history = pd.DataFrame(history)\n",
    "df_history"
   ]
  },
  {
   "cell_type": "code",
   "execution_count": 4,
   "id": "106a70ad",
   "metadata": {
    "execution": {
     "iopub.execute_input": "2022-01-21T16:19:05.853692Z",
     "iopub.status.busy": "2022-01-21T16:19:05.853266Z",
     "iopub.status.idle": "2022-01-21T16:19:05.884333Z",
     "shell.execute_reply": "2022-01-21T16:19:05.884582Z"
    },
    "papermill": {
     "duration": 0.040865,
     "end_time": "2022-01-21T16:19:05.884716",
     "exception": false,
     "start_time": "2022-01-21T16:19:05.843851",
     "status": "completed"
    },
    "tags": []
   },
   "outputs": [
    {
     "data": {
      "text/html": [
       "\n",
       "<div id=\"altair-viz-902d7960ee4244cd9ea61a70846b721c\"></div>\n",
       "<script type=\"text/javascript\">\n",
       "  var VEGA_DEBUG = (typeof VEGA_DEBUG == \"undefined\") ? {} : VEGA_DEBUG;\n",
       "  (function(spec, embedOpt){\n",
       "    let outputDiv = document.currentScript.previousElementSibling;\n",
       "    if (outputDiv.id !== \"altair-viz-902d7960ee4244cd9ea61a70846b721c\") {\n",
       "      outputDiv = document.getElementById(\"altair-viz-902d7960ee4244cd9ea61a70846b721c\");\n",
       "    }\n",
       "    const paths = {\n",
       "      \"vega\": \"https://cdn.jsdelivr.net/npm//vega@5?noext\",\n",
       "      \"vega-lib\": \"https://cdn.jsdelivr.net/npm//vega-lib?noext\",\n",
       "      \"vega-lite\": \"https://cdn.jsdelivr.net/npm//vega-lite@4.17.0?noext\",\n",
       "      \"vega-embed\": \"https://cdn.jsdelivr.net/npm//vega-embed@6?noext\",\n",
       "    };\n",
       "\n",
       "    function maybeLoadScript(lib, version) {\n",
       "      var key = `${lib.replace(\"-\", \"\")}_version`;\n",
       "      return (VEGA_DEBUG[key] == version) ?\n",
       "        Promise.resolve(paths[lib]) :\n",
       "        new Promise(function(resolve, reject) {\n",
       "          var s = document.createElement('script');\n",
       "          document.getElementsByTagName(\"head\")[0].appendChild(s);\n",
       "          s.async = true;\n",
       "          s.onload = () => {\n",
       "            VEGA_DEBUG[key] = version;\n",
       "            return resolve(paths[lib]);\n",
       "          };\n",
       "          s.onerror = () => reject(`Error loading script: ${paths[lib]}`);\n",
       "          s.src = paths[lib];\n",
       "        });\n",
       "    }\n",
       "\n",
       "    function showError(err) {\n",
       "      outputDiv.innerHTML = `<div class=\"error\" style=\"color:red;\">${err}</div>`;\n",
       "      throw err;\n",
       "    }\n",
       "\n",
       "    function displayChart(vegaEmbed) {\n",
       "      vegaEmbed(outputDiv, spec, embedOpt)\n",
       "        .catch(err => showError(`Javascript Error: ${err.message}<br>This usually means there's a typo in your chart specification. See the javascript console for the full traceback.`));\n",
       "    }\n",
       "\n",
       "    if(typeof define === \"function\" && define.amd) {\n",
       "      requirejs.config({paths});\n",
       "      require([\"vega-embed\"], displayChart, err => showError(`Error loading script: ${err.message}`));\n",
       "    } else {\n",
       "      maybeLoadScript(\"vega\", \"5\")\n",
       "        .then(() => maybeLoadScript(\"vega-lite\", \"4.17.0\"))\n",
       "        .then(() => maybeLoadScript(\"vega-embed\", \"6\"))\n",
       "        .catch(showError)\n",
       "        .then(() => displayChart(vegaEmbed));\n",
       "    }\n",
       "  })({\"config\": {\"view\": {\"continuousWidth\": 400, \"continuousHeight\": 300}}, \"hconcat\": [{\"mark\": \"line\", \"encoding\": {\"color\": {\"field\": \"partition\", \"type\": \"nominal\"}, \"tooltip\": [{\"field\": \"loss\", \"type\": \"quantitative\"}, {\"field\": \"partition\", \"type\": \"nominal\"}], \"x\": {\"field\": \"epoch\", \"type\": \"ordinal\"}, \"y\": {\"field\": \"loss\", \"type\": \"quantitative\"}}, \"selection\": {\"selector001\": {\"type\": \"interval\", \"bind\": \"scales\", \"encodings\": [\"x\", \"y\"]}}, \"title\": \"Learning Curve: Binary Crossentropy Loss\", \"width\": 400}, {\"mark\": \"line\", \"encoding\": {\"color\": {\"field\": \"partition\", \"type\": \"nominal\"}, \"tooltip\": [{\"field\": \"accuracy\", \"type\": \"quantitative\"}, {\"field\": \"partition\", \"type\": \"nominal\"}], \"x\": {\"field\": \"epoch\", \"type\": \"ordinal\"}, \"y\": {\"field\": \"accuracy\", \"scale\": {\"domain\": [0.5, 1]}, \"type\": \"quantitative\"}}, \"selection\": {\"selector002\": {\"type\": \"interval\", \"bind\": \"scales\", \"encodings\": [\"x\", \"y\"]}}, \"title\": \"Learning Curve: Accuracy\", \"width\": 400}], \"data\": {\"name\": \"data-c4919b572e7c63cca14e8128384ff7b0\"}, \"$schema\": \"https://vega.github.io/schema/vega-lite/v4.17.0.json\", \"datasets\": {\"data-c4919b572e7c63cca14e8128384ff7b0\": [{\"epoch\": 0, \"loss\": 0.563679039478302, \"accuracy\": 0.6992999911308289, \"partition\": \"training\"}, {\"epoch\": 1, \"loss\": 0.46955975890159607, \"accuracy\": 0.7702999711036682, \"partition\": \"training\"}, {\"epoch\": 2, \"loss\": 0.491389662027359, \"accuracy\": 0.7683500051498413, \"partition\": \"training\"}, {\"epoch\": 3, \"loss\": 0.4281751811504364, \"accuracy\": 0.8222000002861023, \"partition\": \"training\"}, {\"epoch\": 0, \"loss\": 0.3892344832420349, \"accuracy\": 0.8435999751091003, \"partition\": \"validation\"}, {\"epoch\": 1, \"loss\": 0.4215400516986847, \"accuracy\": 0.801800012588501, \"partition\": \"validation\"}, {\"epoch\": 2, \"loss\": 0.6603130102157593, \"accuracy\": 0.8471999764442444, \"partition\": \"validation\"}, {\"epoch\": 3, \"loss\": 0.6694858074188232, \"accuracy\": 0.8417999744415283, \"partition\": \"validation\"}]}}, {\"mode\": \"vega-lite\"});\n",
       "</script>"
      ],
      "text/plain": [
       "alt.HConcatChart(...)"
      ]
     },
     "execution_count": 4,
     "metadata": {},
     "output_type": "execute_result"
    }
   ],
   "source": [
    "train_df = df_history[['loss', 'accuracy']].copy()\n",
    "train_df.loc[:,'partition'] = 'training'\n",
    "\n",
    "val_df = df_history[['val_loss', 'val_accuracy']].rename(columns={'val_loss':'loss', 'val_accuracy':'accuracy'})\n",
    "val_df.loc[:, 'partition'] = 'validation'\n",
    "\n",
    "chart_data = pd.concat([train_df, val_df]).reset_index().rename(columns={'index':'epoch'})\n",
    "\n",
    "loss = alt.Chart(chart_data).mark_line().encode(\n",
    "    alt.X('epoch:O'),\n",
    "    alt.Y('loss:Q'),\n",
    "    color='partition:N',\n",
    "    tooltip=['loss', 'partition']\n",
    ").properties(\n",
    "    width=400,\n",
    "    title='Learning Curve: Binary Crossentropy Loss'\n",
    ").interactive()\n",
    "\n",
    "accuracy = alt.Chart(chart_data).mark_line().encode(\n",
    "    alt.X('epoch:O'),\n",
    "    alt.Y('accuracy:Q', scale=alt.Scale(domain=[.5, 1])),\n",
    "    color='partition:N',\n",
    "    tooltip=['accuracy', 'partition']\n",
    ").properties(\n",
    "    width=400,\n",
    "    title='Learning Curve: Accuracy'\n",
    ").interactive()\n",
    "\n",
    "loss | accuracy"
   ]
  },
  {
   "cell_type": "markdown",
   "id": "52e502d1",
   "metadata": {
    "papermill": {
     "duration": 0.003689,
     "end_time": "2022-01-21T16:19:05.892324",
     "exception": false,
     "start_time": "2022-01-21T16:19:05.888635",
     "status": "completed"
    },
    "tags": []
   },
   "source": [
    "## Diagnostics"
   ]
  },
  {
   "cell_type": "code",
   "execution_count": 5,
   "id": "5b60ef41",
   "metadata": {
    "execution": {
     "iopub.execute_input": "2022-01-21T16:19:05.902396Z",
     "iopub.status.busy": "2022-01-21T16:19:05.902000Z",
     "iopub.status.idle": "2022-01-21T16:19:06.437068Z",
     "shell.execute_reply": "2022-01-21T16:19:06.437366Z"
    },
    "papermill": {
     "duration": 0.541533,
     "end_time": "2022-01-21T16:19:06.437489",
     "exception": false,
     "start_time": "2022-01-21T16:19:05.895956",
     "status": "completed"
    },
    "tags": []
   },
   "outputs": [
    {
     "data": {
      "image/png": "[encoded data removed]",
      "text/plain": [
       "<Figure size 432x288 with 2 Axes>"
      ]
     },
     "metadata": {
      "needs_background": "light"
     },
     "output_type": "display_data"
    }
   ],
   "source": [
    "from sklearn.metrics import ConfusionMatrixDisplay, RocCurveDisplay, PrecisionRecallDisplay\n",
    "cm = ConfusionMatrixDisplay.from_predictions(y, yhat > 0.5, display_labels=['Neg Sentiment', 'Pos Sentiment']).ax_.set_title(\"Confusion Matrix\")\n"
   ]
  },
  {
   "cell_type": "code",
   "execution_count": 6,
   "id": "d40489ca",
   "metadata": {
    "execution": {
     "iopub.execute_input": "2022-01-21T16:19:06.448025Z",
     "iopub.status.busy": "2022-01-21T16:19:06.447636Z",
     "iopub.status.idle": "2022-01-21T16:19:06.514023Z",
     "shell.execute_reply": "2022-01-21T16:19:06.514298Z"
    },
    "papermill": {
     "duration": 0.07272,
     "end_time": "2022-01-21T16:19:06.514449",
     "exception": false,
     "start_time": "2022-01-21T16:19:06.441729",
     "status": "completed"
    },
    "tags": []
   },
   "outputs": [
    {
     "data": {
      "image/png": "[encoded data removed]",
      "text/plain": [
       "<Figure size 432x288 with 1 Axes>"
      ]
     },
     "metadata": {
      "needs_background": "light"
     },
     "output_type": "display_data"
    }
   ],
   "source": [
    "roc = RocCurveDisplay.from_predictions(y, yhat).ax_.set_title(\"ROC Curve\")"
   ]
  },
  {
   "cell_type": "code",
   "execution_count": 7,
   "id": "8da75977",
   "metadata": {
    "execution": {
     "iopub.execute_input": "2022-01-21T16:19:06.525905Z",
     "iopub.status.busy": "2022-01-21T16:19:06.525525Z",
     "iopub.status.idle": "2022-01-21T16:19:06.597645Z",
     "shell.execute_reply": "2022-01-21T16:19:06.597960Z"
    },
    "papermill": {
     "duration": 0.078983,
     "end_time": "2022-01-21T16:19:06.598086",
     "exception": false,
     "start_time": "2022-01-21T16:19:06.519103",
     "status": "completed"
    },
    "tags": []
   },
   "outputs": [
    {
     "data": {
      "image/png": "[encoded data removed]",
      "text/plain": [
       "<Figure size 432x288 with 1 Axes>"
      ]
     },
     "metadata": {
      "needs_background": "light"
     },
     "output_type": "display_data"
    }
   ],
   "source": [
    "prc = PrecisionRecallDisplay.from_predictions(y, yhat).ax_.set_title(\"Precision Recall Curve\")"
   ]
  }
 ],
 "metadata": {
  "celltoolbar": "Tags",
  "kernelspec": {
   "display_name": "Python 3 (ipykernel)",
   "language": "python",
   "name": "python3"
  },
  "language_info": {
   "codemirror_mode": {
    "name": "ipython",
    "version": 3
   },
   "file_extension": ".py",
   "mimetype": "text/x-python",
   "name": "python",
   "nbconvert_exporter": "python",
   "pygments_lexer": "ipython3",
   "version": "3.9.7"
  },
  "papermill": {
   "default_parameters": {},
   "duration": 4.226383,
   "end_time": "2022-01-21T16:19:06.909941",
   "environment_variables": {},
   "exception": null,
   "input_path": "notebooks/Evaluate.ipynb",
   "output_path": "notebooks/rendered_Evaluate.ipynb",
   "parameters": {
    "flow_name": "NBFlow",
    "run_id": "1642781791808612"
   },
   "start_time": "2022-01-21T16:19:02.683558",
   "version": "2.3.3"
  }
 },
 "nbformat": 4,
 "nbformat_minor": 5
}
